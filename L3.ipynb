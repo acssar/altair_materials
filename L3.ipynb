{
 "cells": [
  {
   "cell_type": "markdown",
   "metadata": {
    "slideshow": {
     "slide_type": "slide"
    }
   },
   "source": [
    "# Объектно-ориентированное программирование в Python"
   ]
  },
  {
   "cell_type": "markdown",
   "metadata": {
    "slideshow": {
     "slide_type": "slide"
    }
   },
   "source": [
    "Объектно-ориентированное программирование – это подход, при котором вся программа рассматривается как набор взаимодействующих друг с другом объектов. При этом нам важно знать их характеристики."
   ]
  },
  {
   "cell_type": "markdown",
   "metadata": {
    "slideshow": {
     "slide_type": "slide"
    }
   },
   "source": [
    "У каждого объекта в системе есть свойства и поведение, как и у любого реального объекта. Например, рассмотрим объект «машина». У него есть свойства (цвет, вес, стоимость) и поведение (машина может ехать, сигналить, потреблять топливо)."
   ]
  },
  {
   "cell_type": "markdown",
   "metadata": {
    "slideshow": {
     "slide_type": "slide"
    }
   },
   "source": [
    "### Зачем?\n",
    "Прежде всего стоит ответить, зачем? Объектно-ориентированная идеология разрабатывалась как попытка связать поведение сущности с её данными и спроецировать объекты реального мира и бизнес-процессов в программный код. Задумывалось, что такой код проще читать и понимать человеком, т. к. людям свойственно воспринимать окружающий мир как множество взаимодействующих между собой объектов, поддающихся определенной классификации."
   ]
  },
  {
   "cell_type": "markdown",
   "metadata": {
    "slideshow": {
     "slide_type": "slide"
    }
   },
   "source": [
    "время экономится не на стадии разработки, а на этапах поддержки (расширение, модификация, отладка и тестирование), то бишь в долгосрочной перспективе. Если вам требуется написать одноразовый скрипт, который не нуждается в последующей поддержке, то и ООП в этой задаче, вероятнее всего, не пригодится. Однако, значительную часть жизненного цикла большинства современных проектов составляют именно поддержка и расширение. Само по себе наличие ООП не делает вашу архитектуру безупречной, и может наоборот привести к излишним усложнениям.\n"
   ]
  },
  {
   "cell_type": "markdown",
   "metadata": {
    "slideshow": {
     "slide_type": "slide"
    }
   },
   "source": [
    "## Базовые принципы ООП\n",
    "* Инкапсуляция\n",
    "* Наследование\n",
    "* Полиморфизм"
   ]
  },
  {
   "cell_type": "markdown",
   "metadata": {
    "slideshow": {
     "slide_type": "subslide"
    }
   },
   "source": [
    "### Инкапсуляция\n",
    "\n",
    "Инкапсуляция – сокрытие поведения объекта внутри него. Объекту «водитель» не нужно знать, что происходит в объекте «машина», чтобы она ехала. Это ключевой принцип ООП."
   ]
  },
  {
   "cell_type": "markdown",
   "metadata": {
    "slideshow": {
     "slide_type": "subslide"
    }
   },
   "source": [
    "### Наследование\n",
    "\n",
    "Есть объекты «человек» и «водитель». У них есть явно что-то общее. Наследование позволяет выделить это общее в один объект (в данном случае более общим будет человек), а водителя — определить как человека, но с дополнительными свойствами и/или поведением. Например, у водителя есть водительские права, а у человека их может не быть.\n",
    "\n",
    "Принцип наследования решает проблему модификации свойств объекта и придает ООП в целом исключительную гибкость. При работе с объектами программист обычно подбирает объект, наиболее близкий по своим свойствам для решения конкретной задачи, и создает одного или нескольких потомков от него, которые «умеют» делать то, что не реализовано в родителе."
   ]
  },
  {
   "cell_type": "markdown",
   "metadata": {
    "slideshow": {
     "slide_type": "subslide"
    }
   },
   "source": [
    "### Полиморфизм\n",
    "\n",
    "Полиморфизм – это переопределение поведения. Можно снова рассмотреть «человека» и «водителя», но теперь добавить «пешехода». Человек умеет как-то передвигаться, но как именно, зависит от того, водитель он или пешеход. То есть у пешехода и водителя схожее поведение, но реализованное по-разному: один перемещается ногами, другой – на машине."
   ]
  },
  {
   "cell_type": "markdown",
   "metadata": {
    "slideshow": {
     "slide_type": "subslide"
    }
   },
   "source": [
    "### Абстракция\n",
    "\n",
    "Абстракция — это использование только тех характеристик объекта, которые с достаточной точностью представляют его в данной системе. Основная идея состоит в том, чтобы представить объект минимальным набором полей и методов и при этом с достаточной точностью для решаемой задачи.\n",
    "\n",
    "Абстракция является основой объектно-ориентированного программирования и позволяет работать с объектами, не вдаваясь в особенности их реализации."
   ]
  },
  {
   "cell_type": "markdown",
   "metadata": {},
   "source": [
    "\"любую архитектурную проблему можно решить добавлением дополнительного слоя абстракции, кроме проблемы большого количества абстракций.\""
   ]
  },
  {
   "cell_type": "markdown",
   "metadata": {},
   "source": [
    "### Классы на примере трансформеров\n",
    "\n",
    "Класс — это чертеж трансформера, а экземпляры этого класса — конкретные трансформеры, например, Оптимус Прайм или Олег.\n",
    "\n",
    "И хотя они и собраны по одному чертежу, умеют одинаково ходить, трансформироваться и стрелять, они оба обладают собственным уникальным состоянием. Состояние — это ряд меняющихся свойств. Поэтому у двух разных объектов одного класса мы можем наблюдать разное имя, возраст, местоположение, уровень заряда, количество боеприпасов и т. д. Само наличие этих свойств и их типы описываются в классе.\n"
   ]
  },
  {
   "cell_type": "markdown",
   "metadata": {},
   "source": [
    "Таким образом, класс — это описание того, какими свойствами и поведением будет обладать объект. А объект — это экземпляр с собственным состоянием этих свойств. (переменные и функции)"
   ]
  },
  {
   "cell_type": "markdown",
   "metadata": {},
   "source": [
    "#### наследование\n",
    "Оптимус Прайм и Мегатрон — оба трансформеры, но один является автоботом, а второй десептиконом. Допустим, что различия между автоботами и десептиконами будут заключаться только в том, что автоботы трансформируются в автомобили, а десептиконы — в авиацию. Все остальные свойства и поведение не будут иметь никакой разницы. В таком случае можно спроектировать систему наследования так: общие черты (бег, стрельба) будут описаны в базовом классе «Трансформер», а различия (трансформация) в двух дочерних классах «Автобот» и «Десептикон».\n",
    "![](https://habrastorage.org/webt/qj/jo/mg/qjjomgocinjckd5kxjmubl1gzqc.gif)\n"
   ]
  },
  {
   "cell_type": "markdown",
   "metadata": {},
   "source": [
    "Во многих языках программирования возможно также множественное наследование\n",
    "![](https://habrastorage.org/r/w1560/webt/aq/xd/5e/aqxd5e1n1bauunzhp0necdbsws4.png)"
   ]
  },
  {
   "cell_type": "markdown",
   "metadata": {},
   "source": [
    "#### полиморфизм\n",
    "\n",
    "Положим, у нас есть три трансформера: Оптимус, Мегатрон и Олег. Трансформеры боевые, стало быть обладают методом attack(). Игрок, нажимая у себя на джойстике кнопку «воевать», сообщает игре, чтобы та вызвала метод attack() у трансформера, за которого играет игрок. Но поскольку трансформеры разные, а игра интересная, каждый из них будет атаковать каким-то своим способом. Скажем, Оптимус — объект класса Автобот, а Автоботы снабжаются пушками с плутониевыми боеголовками (да не прогневаются фанаты трансформеров). Мегатрон — Десептикон, и стреляет из плазменной пушки. Олег — басист, и он обзывается. А в чем польза?\n",
    "\n",
    "Польза полиморфизма в данном примере заключается в том, что код игры ничего не знает о реализации его просьбы, кто как должен атаковать, его задача просто вызвать метод attack(), сигнатура которого одинакова для всех классов персонажей. Это позволяет добавлять новые классы персонажей, или менять методы существующих, не меняя код игры. Это удобно."
   ]
  },
  {
   "cell_type": "markdown",
   "metadata": {
    "slideshow": {
     "slide_type": "slide"
    }
   },
   "source": [
    "# Создание класса"
   ]
  },
  {
   "cell_type": "code",
   "execution_count": 1,
   "metadata": {
    "slideshow": {
     "slide_type": "subslide"
    }
   },
   "outputs": [],
   "source": [
    "class MyClass:\n",
    "    val = 2  # Свойство класса\n",
    "\n",
    "    def mult(self, x):  # Методы класса\n",
    "        return self.val * x\n",
    "    \n",
    "    def power(self, x):\n",
    "        return x ** self.val"
   ]
  },
  {
   "cell_type": "code",
   "execution_count": 2,
   "metadata": {
    "slideshow": {
     "slide_type": "slide"
    }
   },
   "outputs": [
    {
     "name": "stdout",
     "output_type": "stream",
     "text": [
      "2\n",
      "6\n",
      "9\n"
     ]
    }
   ],
   "source": [
    "elem = MyClass()\n",
    "print(elem.val)\n",
    "print(elem.mult(3))\n",
    "print(elem.power(3))"
   ]
  },
  {
   "cell_type": "code",
   "execution_count": 3,
   "metadata": {},
   "outputs": [
    {
     "name": "stdout",
     "output_type": "stream",
     "text": [
      "<class '__main__.MyClass'>\n"
     ]
    }
   ],
   "source": [
    "print(type(elem))"
   ]
  },
  {
   "cell_type": "code",
   "execution_count": 4,
   "metadata": {
    "slideshow": {
     "slide_type": "subslide"
    }
   },
   "outputs": [
    {
     "name": "stdout",
     "output_type": "stream",
     "text": [
      "4\n",
      "12\n",
      "81\n"
     ]
    }
   ],
   "source": [
    "elem.val = 4\n",
    "print(elem.val)\n",
    "print(elem.mult(3))\n",
    "print(elem.power(3))"
   ]
  },
  {
   "cell_type": "markdown",
   "metadata": {
    "slideshow": {
     "slide_type": "slide"
    }
   },
   "source": [
    "# Конструкторы и деструкторы"
   ]
  },
  {
   "cell_type": "code",
   "execution_count": 5,
   "metadata": {
    "slideshow": {
     "slide_type": "subslide"
    }
   },
   "outputs": [],
   "source": [
    "class MyClass:\n",
    "    def __init__(self):\n",
    "        \"\"\"\n",
    "        Конструктор класса. Выполняется при создании экземпляра класса\n",
    "        Обычно все свойства определяются в конструкторе\n",
    "        \"\"\"\n",
    "        print('Initialize')\n",
    "        self.val = 2  # Свойство класса\n",
    "\n",
    "    def mult(self, x):  # Метод класса\n",
    "        return self.val * x\n",
    "    \n",
    "    def __del__(self):\n",
    "        \"\"\"\n",
    "        Деструктор класса. Выполняется при удалении экземпляра класса\n",
    "        \"\"\"\n",
    "        print('Delete')"
   ]
  },
  {
   "cell_type": "code",
   "execution_count": 6,
   "metadata": {
    "slideshow": {
     "slide_type": "subslide"
    }
   },
   "outputs": [
    {
     "name": "stdout",
     "output_type": "stream",
     "text": [
      "Initialize\n",
      "2\n",
      "Delete\n"
     ]
    }
   ],
   "source": [
    "elem = MyClass()\n",
    "print(elem.val)\n",
    "del elem"
   ]
  },
  {
   "cell_type": "markdown",
   "metadata": {
    "slideshow": {
     "slide_type": "subslide"
    }
   },
   "source": [
    "При запуске .py файла деструктор выполняется при завершении программы, либо когда когда перменная автоматически удаляется (например, выполнение выходит из зоны видимости локальной переменной)  \n",
    "  \n",
    "На практике деструктор используется редко, в основном для тех ресурсов, которые требуют явного освобождения памяти при удалении объекта."
   ]
  },
  {
   "cell_type": "markdown",
   "metadata": {
    "slideshow": {
     "slide_type": "slide"
    }
   },
   "source": [
    "# Инкапсуляция"
   ]
  },
  {
   "cell_type": "markdown",
   "metadata": {},
   "source": [
    "Атрибут может быть объявлен приватным (внутренним) с помощью нижнего подчеркивания перед именем, но настоящего скрытия на самом деле не происходит – все на уровне соглашений."
   ]
  },
  {
   "cell_type": "code",
   "execution_count": 7,
   "metadata": {
    "slideshow": {
     "slide_type": "subslide"
    }
   },
   "outputs": [],
   "source": [
    "class MyClass:\n",
    "    def __init__(self):\n",
    "        self._val = 3  # Приватное свойство класса protected\n",
    "        self.__priv_val = 8  # Очень приватное свойство класса private\n",
    "        \n",
    "    def _factorial(self, x): # Приватный метод класса\n",
    "        fact = 1\n",
    "        for i in range(1, x):\n",
    "            fact *= i\n",
    "        return fact\n",
    "\n",
    "    def mult(self, x):  # Метод класса\n",
    "        return self._val * self._factorial(x)"
   ]
  },
  {
   "cell_type": "code",
   "execution_count": 8,
   "metadata": {
    "slideshow": {
     "slide_type": "subslide"
    }
   },
   "outputs": [
    {
     "name": "stdout",
     "output_type": "stream",
     "text": [
      "3\n"
     ]
    },
    {
     "ename": "AttributeError",
     "evalue": "'MyClass' object has no attribute '__priv_val'",
     "output_type": "error",
     "traceback": [
      "\u001b[0;31m---------------------------------------------------------------------------\u001b[0m",
      "\u001b[0;31mAttributeError\u001b[0m                            Traceback (most recent call last)",
      "\u001b[0;32m/tmp/ipykernel_7187/696680595.py\u001b[0m in \u001b[0;36m<module>\u001b[0;34m\u001b[0m\n\u001b[1;32m      1\u001b[0m \u001b[0melem\u001b[0m \u001b[0;34m=\u001b[0m \u001b[0mMyClass\u001b[0m\u001b[0;34m(\u001b[0m\u001b[0;34m)\u001b[0m\u001b[0;34m\u001b[0m\u001b[0;34m\u001b[0m\u001b[0m\n\u001b[1;32m      2\u001b[0m \u001b[0mprint\u001b[0m\u001b[0;34m(\u001b[0m\u001b[0melem\u001b[0m\u001b[0;34m.\u001b[0m\u001b[0m_val\u001b[0m\u001b[0;34m)\u001b[0m  \u001b[0;31m# Доступ к приватному свойству\u001b[0m\u001b[0;34m\u001b[0m\u001b[0;34m\u001b[0m\u001b[0m\n\u001b[0;32m----> 3\u001b[0;31m \u001b[0mprint\u001b[0m\u001b[0;34m(\u001b[0m\u001b[0melem\u001b[0m\u001b[0;34m.\u001b[0m\u001b[0m__priv_val\u001b[0m\u001b[0;34m)\u001b[0m  \u001b[0;31m# Доступ к очень приватному свойству\u001b[0m\u001b[0;34m\u001b[0m\u001b[0;34m\u001b[0m\u001b[0m\n\u001b[0m",
      "\u001b[0;31mAttributeError\u001b[0m: 'MyClass' object has no attribute '__priv_val'"
     ]
    }
   ],
   "source": [
    "elem = MyClass()\n",
    "print(elem._val)  # Доступ к приватному свойству\n",
    "print(elem.__priv_val)  # Доступ к очень приватному свойству"
   ]
  },
  {
   "cell_type": "code",
   "execution_count": 12,
   "metadata": {},
   "outputs": [
    {
     "name": "stdout",
     "output_type": "stream",
     "text": [
      "3\n",
      "8\n"
     ]
    }
   ],
   "source": [
    "elem = MyClass()\n",
    "print(elem._val)  # Доступ к приватному свойству\n",
    "print(elem._MyClass__priv_val)  # Доступ к очень приватному свойству"
   ]
  },
  {
   "cell_type": "markdown",
   "metadata": {
    "slideshow": {
     "slide_type": "subslide"
    }
   },
   "source": [
    "### Работа с приватными данными"
   ]
  },
  {
   "cell_type": "code",
   "execution_count": 13,
   "metadata": {
    "slideshow": {
     "slide_type": "-"
    }
   },
   "outputs": [],
   "source": [
    "class Item:\n",
    "    def __init__(self, count=3, max_count=16):\n",
    "        self._count = count\n",
    "        self._max_count = 16\n",
    "        \n",
    "    def update_count(self, val):\n",
    "        if val <= self._max_count:\n",
    "            self._count = val\n",
    "            return True\n",
    "        else:\n",
    "            return False\n",
    "        \n",
    "    # Свойство объекта. Не принимает параметров кроме self, вызывается без круглых скобок\n",
    "    # Определяется с помощью декоратора property\n",
    "    @property\n",
    "    def count(self):\n",
    "        return self._count"
   ]
  },
  {
   "cell_type": "code",
   "execution_count": 14,
   "metadata": {
    "slideshow": {
     "slide_type": "subslide"
    }
   },
   "outputs": [
    {
     "name": "stdout",
     "output_type": "stream",
     "text": [
      "2\n",
      "True 8\n"
     ]
    }
   ],
   "source": [
    "item = Item(2)\n",
    "print(item.count)\n",
    "ret = item.update_count(8)\n",
    "print(ret, item.count)"
   ]
  },
  {
   "cell_type": "markdown",
   "metadata": {
    "slideshow": {
     "slide_type": "slide"
    }
   },
   "source": [
    "# Наследование"
   ]
  },
  {
   "cell_type": "code",
   "execution_count": 15,
   "metadata": {
    "slideshow": {
     "slide_type": "subslide"
    }
   },
   "outputs": [],
   "source": [
    "class Apple(Item):\n",
    "    def __init__(self, count=1, max_count=32, color='green'):\n",
    "        super().__init__(count, max_count)  #Позволяет избежать явного использования имени базового класса, вызываем вначале инициализацию оттуда\n",
    "        self._color = color\n",
    "    \n",
    "    @property\n",
    "    def color(self):\n",
    "        return self._color"
   ]
  },
  {
   "cell_type": "code",
   "execution_count": 16,
   "metadata": {},
   "outputs": [
    {
     "name": "stdout",
     "output_type": "stream",
     "text": [
      "1\n",
      "red\n"
     ]
    }
   ],
   "source": [
    "apple = Apple(color='red')\n",
    "print(apple.count)\n",
    "print(apple.color)"
   ]
  },
  {
   "cell_type": "code",
   "execution_count": 17,
   "metadata": {},
   "outputs": [],
   "source": [
    "class Apple(Item):\n",
    "    def __init__(self, count=1, max_count=32, color='green'):\n",
    "        self._color = color\n",
    "    \n",
    "    @property\n",
    "    def color(self):\n",
    "        return self._color"
   ]
  },
  {
   "cell_type": "code",
   "execution_count": 18,
   "metadata": {},
   "outputs": [
    {
     "ename": "AttributeError",
     "evalue": "'Apple' object has no attribute '_count'",
     "output_type": "error",
     "traceback": [
      "\u001b[0;31m---------------------------------------------------------------------------\u001b[0m",
      "\u001b[0;31mAttributeError\u001b[0m                            Traceback (most recent call last)",
      "\u001b[0;32m/tmp/ipykernel_7187/1224885082.py\u001b[0m in \u001b[0;36m<module>\u001b[0;34m\u001b[0m\n\u001b[1;32m      1\u001b[0m \u001b[0mapple\u001b[0m \u001b[0;34m=\u001b[0m \u001b[0mApple\u001b[0m\u001b[0;34m(\u001b[0m\u001b[0mcolor\u001b[0m\u001b[0;34m=\u001b[0m\u001b[0;34m'red'\u001b[0m\u001b[0;34m)\u001b[0m\u001b[0;34m\u001b[0m\u001b[0;34m\u001b[0m\u001b[0m\n\u001b[0;32m----> 2\u001b[0;31m \u001b[0mprint\u001b[0m\u001b[0;34m(\u001b[0m\u001b[0mapple\u001b[0m\u001b[0;34m.\u001b[0m\u001b[0mcount\u001b[0m\u001b[0;34m)\u001b[0m\u001b[0;34m\u001b[0m\u001b[0;34m\u001b[0m\u001b[0m\n\u001b[0m\u001b[1;32m      3\u001b[0m \u001b[0mprint\u001b[0m\u001b[0;34m(\u001b[0m\u001b[0mapple\u001b[0m\u001b[0;34m.\u001b[0m\u001b[0mcolor\u001b[0m\u001b[0;34m)\u001b[0m\u001b[0;34m\u001b[0m\u001b[0;34m\u001b[0m\u001b[0m\n",
      "\u001b[0;32m/tmp/ipykernel_7187/801798785.py\u001b[0m in \u001b[0;36mcount\u001b[0;34m(self)\u001b[0m\n\u001b[1;32m     15\u001b[0m     \u001b[0;34m@\u001b[0m\u001b[0mproperty\u001b[0m\u001b[0;34m\u001b[0m\u001b[0;34m\u001b[0m\u001b[0m\n\u001b[1;32m     16\u001b[0m     \u001b[0;32mdef\u001b[0m \u001b[0mcount\u001b[0m\u001b[0;34m(\u001b[0m\u001b[0mself\u001b[0m\u001b[0;34m)\u001b[0m\u001b[0;34m:\u001b[0m\u001b[0;34m\u001b[0m\u001b[0;34m\u001b[0m\u001b[0m\n\u001b[0;32m---> 17\u001b[0;31m         \u001b[0;32mreturn\u001b[0m \u001b[0mself\u001b[0m\u001b[0;34m.\u001b[0m\u001b[0m_count\u001b[0m\u001b[0;34m\u001b[0m\u001b[0;34m\u001b[0m\u001b[0m\n\u001b[0m",
      "\u001b[0;31mAttributeError\u001b[0m: 'Apple' object has no attribute '_count'"
     ]
    }
   ],
   "source": [
    "apple = Apple(color='red')\n",
    "print(apple.count)\n",
    "print(apple.color)"
   ]
  },
  {
   "cell_type": "code",
   "execution_count": 19,
   "metadata": {
    "slideshow": {
     "slide_type": "subslide"
    }
   },
   "outputs": [
    {
     "name": "stdout",
     "output_type": "stream",
     "text": [
      "True\n",
      "True\n"
     ]
    }
   ],
   "source": [
    "# isinstance проверяет принадлежит ли объект классу\n",
    "print(isinstance(apple, Apple))\n",
    "print(isinstance(apple, Item))"
   ]
  },
  {
   "cell_type": "markdown",
   "metadata": {
    "slideshow": {
     "slide_type": "subslide"
    }
   },
   "source": [
    "### Каждый объект в Python является наследником класса object\n",
    "Определение класса\n",
    "```python\n",
    "class Item:\n",
    "```\n",
    "эквивалентно определению\n",
    "```python\n",
    "class Item(object):\n",
    "```"
   ]
  },
  {
   "cell_type": "code",
   "execution_count": 20,
   "metadata": {},
   "outputs": [
    {
     "name": "stdout",
     "output_type": "stream",
     "text": [
      "True\n",
      "True\n",
      "True\n",
      "True\n",
      "True\n",
      "True\n"
     ]
    }
   ],
   "source": [
    "print(isinstance(apple, object))\n",
    "print(isinstance(Apple, object))\n",
    "print(isinstance(2, object))\n",
    "print(isinstance(apple.update_count, object))\n",
    "print(isinstance(isinstance, object))\n",
    "print(isinstance(print, object))"
   ]
  },
  {
   "cell_type": "code",
   "execution_count": 21,
   "metadata": {
    "slideshow": {
     "slide_type": "subslide"
    }
   },
   "outputs": [
    {
     "data": {
      "text/plain": [
       "['__class__',\n",
       " '__delattr__',\n",
       " '__dir__',\n",
       " '__doc__',\n",
       " '__eq__',\n",
       " '__format__',\n",
       " '__ge__',\n",
       " '__getattribute__',\n",
       " '__gt__',\n",
       " '__hash__',\n",
       " '__init__',\n",
       " '__init_subclass__',\n",
       " '__le__',\n",
       " '__lt__',\n",
       " '__ne__',\n",
       " '__new__',\n",
       " '__reduce__',\n",
       " '__reduce_ex__',\n",
       " '__repr__',\n",
       " '__setattr__',\n",
       " '__sizeof__',\n",
       " '__str__',\n",
       " '__subclasshook__']"
      ]
     },
     "execution_count": 21,
     "metadata": {},
     "output_type": "execute_result"
    }
   ],
   "source": [
    "# Функция dir возвращает список атрибутов класса.\n",
    "dir(object)"
   ]
  },
  {
   "cell_type": "code",
   "execution_count": 22,
   "metadata": {},
   "outputs": [
    {
     "data": {
      "text/plain": [
       "['__class__',\n",
       " '__delattr__',\n",
       " '__dict__',\n",
       " '__dir__',\n",
       " '__doc__',\n",
       " '__eq__',\n",
       " '__format__',\n",
       " '__ge__',\n",
       " '__getattribute__',\n",
       " '__gt__',\n",
       " '__hash__',\n",
       " '__init__',\n",
       " '__init_subclass__',\n",
       " '__le__',\n",
       " '__lt__',\n",
       " '__module__',\n",
       " '__ne__',\n",
       " '__new__',\n",
       " '__reduce__',\n",
       " '__reduce_ex__',\n",
       " '__repr__',\n",
       " '__setattr__',\n",
       " '__sizeof__',\n",
       " '__str__',\n",
       " '__subclasshook__',\n",
       " '__weakref__',\n",
       " 'count',\n",
       " 'update_count']"
      ]
     },
     "execution_count": 22,
     "metadata": {},
     "output_type": "execute_result"
    }
   ],
   "source": [
    "dir(Item)"
   ]
  },
  {
   "cell_type": "markdown",
   "metadata": {
    "slideshow": {
     "slide_type": "subslide"
    }
   },
   "source": [
    "## Множественное наследование"
   ]
  },
  {
   "cell_type": "code",
   "execution_count": 23,
   "metadata": {
    "slideshow": {
     "slide_type": "-"
    }
   },
   "outputs": [],
   "source": [
    "class Fruit(Item):\n",
    "    def __init__(self, ripe=True, **kwargs):\n",
    "        super().__init__(**kwargs)\n",
    "        self._ripe = ripe\n",
    "\n",
    "\n",
    "class Food(Item):\n",
    "    def __init__(self, saturation, **kwargs):\n",
    "        super().__init__(**kwargs)\n",
    "        self._saturation = saturation\n",
    "        \n",
    "    @property\n",
    "    def eatable(self):\n",
    "        return self._saturation > 0"
   ]
  },
  {
   "cell_type": "code",
   "execution_count": 24,
   "metadata": {
    "slideshow": {
     "slide_type": "subslide"
    }
   },
   "outputs": [],
   "source": [
    "class Apple(Fruit, Food):\n",
    "    def __init__(self, ripe, count=1, max_count=32, color='green', saturation=10):\n",
    "        super().__init__(saturation=saturation, ripe=ripe, count=count, max_count=max_count)\n",
    "        self._color = color\n",
    "    \n",
    "    @property\n",
    "    def color(self):\n",
    "        return self._color"
   ]
  },
  {
   "cell_type": "code",
   "execution_count": 25,
   "metadata": {},
   "outputs": [
    {
     "name": "stdout",
     "output_type": "stream",
     "text": [
      "1\n",
      "green\n",
      "True\n"
     ]
    }
   ],
   "source": [
    "apple = Apple(False, color='green')\n",
    "print(apple.count)\n",
    "print(apple.color)\n",
    "print(apple.eatable)"
   ]
  },
  {
   "cell_type": "code",
   "execution_count": 26,
   "metadata": {
    "slideshow": {
     "slide_type": "subslide"
    }
   },
   "outputs": [
    {
     "data": {
      "text/plain": [
       "(__main__.Fruit, __main__.Food)"
      ]
     },
     "execution_count": 26,
     "metadata": {},
     "output_type": "execute_result"
    }
   ],
   "source": [
    "Apple.__bases__"
   ]
  },
  {
   "cell_type": "markdown",
   "metadata": {
    "slideshow": {
     "slide_type": "slide"
    }
   },
   "source": [
    "# Полиморфизм"
   ]
  },
  {
   "cell_type": "code",
   "execution_count": 27,
   "metadata": {
    "slideshow": {
     "slide_type": "subslide"
    }
   },
   "outputs": [],
   "source": [
    "class Apple(Fruit, Food):\n",
    "    def __init__(self, ripe, count=1, max_count=32, color='green', saturation=10):\n",
    "        super().__init__(saturation=saturation, ripe=ripe, count=count, max_count=max_count)\n",
    "        self._color = color\n",
    "    \n",
    "    @property\n",
    "    def color(self):\n",
    "        return self._color\n",
    "        \n",
    "    @property\n",
    "    def eatable(self):\n",
    "        \"\"\"\n",
    "        Переопределённая функция класса Food. Добавление проверки на спелость\n",
    "        \"\"\"\n",
    "        return super().eatable and self._ripe"
   ]
  },
  {
   "cell_type": "code",
   "execution_count": 28,
   "metadata": {},
   "outputs": [
    {
     "name": "stdout",
     "output_type": "stream",
     "text": [
      "1\n",
      "green\n",
      "False\n"
     ]
    }
   ],
   "source": [
    "apple = Apple(False, color='green')\n",
    "print(apple.count)\n",
    "print(apple.color)\n",
    "print(apple.eatable)"
   ]
  },
  {
   "cell_type": "markdown",
   "metadata": {
    "slideshow": {
     "slide_type": "slide"
    }
   },
   "source": [
    "# Специальные методы"
   ]
  },
  {
   "cell_type": "code",
   "execution_count": 29,
   "metadata": {
    "slideshow": {
     "slide_type": "subslide"
    }
   },
   "outputs": [],
   "source": [
    "class Apple(Fruit, Food):\n",
    "    def __init__(self, ripe, count=1, max_count=32, color='green', saturation=10):\n",
    "        super().__init__(saturation=saturation, ripe=ripe, count=count, max_count=max_count)\n",
    "        self._color = color\n",
    "    \n",
    "    @property\n",
    "    def color(self):\n",
    "        return self._color\n",
    "        \n",
    "    @property\n",
    "    def eatable(self):\n",
    "        return super().eatable and self._ripe\n",
    "    \n",
    "    def __call__(self):\n",
    "        \"\"\" Вызов как функции \"\"\"\n",
    "        if self.eatable:\n",
    "            new_count = max(self.count - 1, 0)\n",
    "            self.update_count(new_count)            \n",
    "    \n",
    "    def __str__(self):\n",
    "        \"\"\" Вызов как строки \"\"\"\n",
    "        return f'Stack of {self.count} {self.color} apples' \n",
    "            \n",
    "    def __len__(self):\n",
    "        \"\"\" Получение длины объекта \"\"\"\n",
    "        return self.count"
   ]
  },
  {
   "cell_type": "code",
   "execution_count": 30,
   "metadata": {
    "slideshow": {
     "slide_type": "subslide"
    }
   },
   "outputs": [
    {
     "name": "stdout",
     "output_type": "stream",
     "text": [
      "8\n",
      "7\n",
      "Stack of 7 red apples\n"
     ]
    }
   ],
   "source": [
    "apple = Apple(True, count=8, color='red')\n",
    "print(len(apple))\n",
    "apple()\n",
    "print(len(apple))\n",
    "print(apple)"
   ]
  },
  {
   "cell_type": "markdown",
   "metadata": {
    "slideshow": {
     "slide_type": "subslide"
    }
   },
   "source": [
    "### Имитация списка"
   ]
  },
  {
   "cell_type": "code",
   "execution_count": 31,
   "metadata": {
    "slideshow": {
     "slide_type": "-"
    }
   },
   "outputs": [],
   "source": [
    "class MultLists:\n",
    "    def __init__(self, lst1, lst2):\n",
    "        self._lst1 = lst1\n",
    "        self._lst2 = lst2\n",
    "        \n",
    "    def __getitem__(self, index):\n",
    "        \"\"\" Получение элемента по индексу \"\"\"\n",
    "        if index > len(self):\n",
    "            raise IndexError(f'Index {index} more then {len(self)}')\n",
    "        return self._lst1[index], self._lst2[index]\n",
    "        \n",
    "    def __len__(self):\n",
    "        return min(len(self._lst1), len(self._lst2))"
   ]
  },
  {
   "cell_type": "code",
   "execution_count": 32,
   "metadata": {
    "slideshow": {
     "slide_type": "subslide"
    }
   },
   "outputs": [
    {
     "name": "stdout",
     "output_type": "stream",
     "text": [
      "3\n",
      "(5, 'c')\n"
     ]
    }
   ],
   "source": [
    "mlst = MultLists([1, 4, 5, 7], ['a', 'b', 'c'])\n",
    "print(len(mlst))\n",
    "print(mlst[2])"
   ]
  },
  {
   "cell_type": "markdown",
   "metadata": {
    "slideshow": {
     "slide_type": "subslide"
    }
   },
   "source": [
    "### Числовые операции"
   ]
  },
  {
   "cell_type": "code",
   "execution_count": 33,
   "metadata": {
    "slideshow": {
     "slide_type": "subslide"
    }
   },
   "outputs": [],
   "source": [
    "class Apple(Fruit, Food):\n",
    "    def __init__(self, ripe, count=1, max_count=32, color='green', saturation=10):\n",
    "        super().__init__(saturation=saturation, ripe=ripe, count=count, max_count=max_count)\n",
    "        self._color = color\n",
    "    \n",
    "    @property\n",
    "    def color(self):\n",
    "        return self._color\n",
    "        \n",
    "    @property\n",
    "    def eatable(self):\n",
    "        return super().eatable and self._ripe\n",
    "    \n",
    "    def __add__(self, num):   # по сути - перезгрузка метода (функции)\n",
    "        \"\"\" Сложение с числом \"\"\"\n",
    "        return self.count + num\n",
    "    \n",
    "    def __mul__(self, num):\n",
    "        \"\"\" Умножение на число \"\"\"\n",
    "        return self.count * num\n",
    "    \n",
    "    def __lt__(self, num):\n",
    "        \"\"\" Сравнение меньше \"\"\"\n",
    "        return self.count < num\n",
    "    \n",
    "    def __len__(self):\n",
    "        \"\"\" Получение длины объекта \"\"\"\n",
    "        return self.count"
   ]
  },
  {
   "cell_type": "code",
   "execution_count": 34,
   "metadata": {
    "slideshow": {
     "slide_type": "subslide"
    }
   },
   "outputs": [
    {
     "name": "stdout",
     "output_type": "stream",
     "text": [
      "8\n",
      "11\n",
      "24\n",
      "False\n"
     ]
    }
   ],
   "source": [
    "apple = Apple(True, count=8, color='red')\n",
    "print(len(apple))\n",
    "print(apple + 3)\n",
    "print(apple * 3)\n",
    "print(apple < 3)"
   ]
  },
  {
   "cell_type": "markdown",
   "metadata": {
    "slideshow": {
     "slide_type": "slide"
    }
   },
   "source": [
    "# Задания:\n",
    "1. Перенести все операции по работе с количеством объектов в класс Item\n",
    "2. Дополнить остальными опрерациями сравнения (>, <=, >=, ==), вычитания, а также выполнение операций +=, *=, -=. Все изменения количества должны быть в переделах \\[0, max_count\\]  \n",
    "3. Создать ещё 2 класса съедобных фруктов и 2 класса съедобных не фруктов  \n",
    "4. Создать класс Inventory, который содержит в себе список фиксированной длины. Заполнить его None. Доступ в ячейку осуществляется по индексу.   \n",
    "    4.1 Добавить возможность добавлять в него съедобные объекты в определённые ячейки.  \n",
    "    4.2 Добавить возможность уменьшать количество объектов в списке.  \n",
    "    4.3 При достижении нуля, объект удаляется из инвенторя.  \n",
    "5. Создайте класс, содержащий очередь. В нём реализовать методы добавления элемента в конец и получение первого элемента из списка с удалением. Сам список должен быть недоступен. Добавить возможность получить список, идентичный находящемуся внутри класса, но при изменении полученного списка, внутриклассовый не меняется."
   ]
  },
  {
   "cell_type": "markdown",
   "metadata": {},
   "source": [
    "ко второму заданию:\n",
    "![](https://sun9-west.userapi.com/sun9-47/s/v1/ig2/sa300SsoKqYdK2wRkHtIN6Kg6AE7ChhVvd3ZFB8YwhUhMO-qi5fzeVgY3snQMA0XTgboDw9o6gr--SKEfZhUbWGp.jpg?size=927x301&quality=96&type=album)"
   ]
  },
  {
   "cell_type": "markdown",
   "metadata": {
    "slideshow": {
     "slide_type": "slide"
    }
   },
   "source": [
    "# Лабораторная работа 3. ООП.\n",
    "\n",
    "\n",
    "1. Реализовать два класса **Worker** и **Imposter**. И класс **Accountant**.\n",
    "2. Класс **Accountant** должен уметь одинаково успешно работать и с экземплярами класса **Worker** и с экземплярами класса **Imposter**. \n",
    "    У класса **Accountant** должен быть метод *give_salary(worker)*. Который, получая на вход экземпляр классов **Worker** или **Imposter**, вызывает у них метод *take_salary(int)*.\n",
    "    Необходимо придумать как реализовать такое поведение.\n",
    "    Метод *take_salary* инкрементирует(увеличивает) внутренний счётчик у каждого экземпляра класса на переданное ему значение.\n",
    "3. При этом **Worker** и **Imposter** два датасайнтиста, которым поставили задачу поэлементно суммировать матрицы. У них есть метод *do_work(filename1, filename2)*.  \n",
    "    **Worker** считывают из обоих переданных ему файлов по матрице и поэлементно их суммируют.    \n",
    "    **Imposter** считывают из обоих переданных ему файлов по матрице и поэлементно их вычитают     \n",
    "    Работники обоих типов выводят результат своих трудов на экран.\n",
    "4. Класс **Accountant** реализует логику начисления ЗП на ваше усмотрение\n",
    "![](https://sun9-east.userapi.com/sun9-33/s/v1/ig2/8qE2GKqe8I6fC7saunARZTn3fgrMLkMyHYmxGZJxuEVVGThsVJ7pd4hxdbNhRJmcY1TwOt_9BYCify3o-DZmh0FF.jpg?size=1280x720&quality=96&type=album)"
   ]
  }
 ],
 "metadata": {
  "celltoolbar": "Slideshow",
  "kernelspec": {
   "display_name": "Python 3 (ipykernel)",
   "language": "python",
   "name": "python3"
  },
  "language_info": {
   "codemirror_mode": {
    "name": "ipython",
    "version": 3
   },
   "file_extension": ".py",
   "mimetype": "text/x-python",
   "name": "python",
   "nbconvert_exporter": "python",
   "pygments_lexer": "ipython3",
   "version": "3.8.10"
  }
 },
 "nbformat": 4,
 "nbformat_minor": 4
}
