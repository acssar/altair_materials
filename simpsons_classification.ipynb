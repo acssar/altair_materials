{
 "cells": [
  {
   "cell_type": "code",
   "execution_count": 1,
   "id": "e784a03f",
   "metadata": {},
   "outputs": [
    {
     "name": "stderr",
     "output_type": "stream",
     "text": [
      "/opt/conda/lib/python3.8/site-packages/tqdm/auto.py:22: TqdmWarning: IProgress not found. Please update jupyter and ipywidgets. See https://ipywidgets.readthedocs.io/en/stable/user_install.html\n",
      "  from .autonotebook import tqdm as notebook_tqdm\n"
     ]
    }
   ],
   "source": [
    "import torch\n",
    "import torch.nn as nn\n",
    "from torch.utils.data import Dataset, DataLoader\n",
    "from pathlib import Path\n",
    "from PIL import Image\n",
    "import numpy as np\n",
    "import matplotlib.pyplot as plt\n",
    "import re\n",
    "import torch.nn.functional as F\n",
    "from torch import optim\n",
    "from torchvision.io import read_image\n",
    "from torch.utils.data import TensorDataset\n",
    "from torchvision import models\n",
    "from torch.utils.tensorboard import SummaryWriter\n",
    "from torchvision import transforms\n",
    "writer = SummaryWriter()"
   ]
  },
  {
   "cell_type": "code",
   "execution_count": 2,
   "id": "ddfee43a",
   "metadata": {},
   "outputs": [],
   "source": [
    "transform = transforms.Compose([  # трансформации изображений\n",
    "    transforms.Resize((224,224)),\n",
    "    transforms.Normalize(mean=[0.485, 0.456, 0.406], std=[0.229, 0.224, 0.225])\n",
    "])"
   ]
  },
  {
   "cell_type": "code",
   "execution_count": 3,
   "id": "a5f69eb2",
   "metadata": {},
   "outputs": [],
   "source": [
    "class TrainSet(Dataset):\n",
    "    \"\"\"\n",
    "    Class containing train dataset\n",
    "    \"\"\"\n",
    "    def __init__(self, dir):\n",
    "        \"\"\"\n",
    "        Trainset class constructor\n",
    "        :param dir: path to trainset directory\n",
    "        \"\"\"\n",
    "        self.train_dir = Path(dir)\n",
    "        self.train_files_path = sorted(list(self.train_dir.rglob('*.jpg')))  # пути к файлам трейна\n",
    "        self.train_class_names = [path.parent.name for path in self.train_files_path]  # имена классов для файлов трейна\n",
    "\n",
    "        class_paths = sorted(list(self.train_dir.glob('*')))\n",
    "        classes = [path.name for path in class_paths]  # список имен классов\n",
    "        self.class_id = {classes[i]: i for i in range(len(classes))}  # словарик с класс айди\n",
    "\n",
    "    def __len__(self):\n",
    "        \"\"\"\n",
    "        get length of trainset\n",
    "        :return: length\n",
    "        \"\"\"\n",
    "        return len(self.train_files_path)\n",
    "\n",
    "    def __getitem__(self, index):\n",
    "        \"\"\"\n",
    "        get single item\n",
    "        :param index:\n",
    "        :return:\n",
    "        \"\"\"\n",
    "        img = read_image(str(self.train_files_path[index]))\n",
    "        img = img / 255.0\n",
    "        img = transform(img)\n",
    "\n",
    "        name = self.train_class_names[index]\n",
    "        img_y = self.class_id[name]\n",
    "\n",
    "        return img, img_y\n",
    "\n",
    "\n",
    "class ValSet(Dataset):\n",
    "    \"\"\"\n",
    "    Chunga changa\n",
    "    \"\"\"\n",
    "\n",
    "    def __init__(self, dir1, dir2):\n",
    "        \"\"\"\n",
    "        ValSet class constructor\n",
    "        :param dir: path to trainset directory\n",
    "        \"\"\"\n",
    "        self.train_dir = Path(dir1)\n",
    "        self.test_dir = Path(dir2)\n",
    "        self.test_files_path = sorted(list(self.test_dir.rglob('*.jpg')))  # пути к файлам теста\n",
    "        test_classes = [path.name for path in self.test_files_path]\n",
    "        self.test_class_names = [re.sub(r\"_\\d+.jpg\", \"\", path) for path in test_classes]  # имена классов для теста\n",
    "\n",
    "        class_paths = sorted(list(self.train_dir.glob('*')))\n",
    "        classes = [path.name for path in class_paths]  # список имен классов\n",
    "        self.class_id = {classes[i]: i for i in range(len(classes))}  # словарик с класс айди\n",
    "\n",
    "    def __len__(self):\n",
    "        \"\"\"\n",
    "        get length of set\n",
    "        :return: length\n",
    "        \"\"\"\n",
    "        return len(self.test_files_path)\n",
    "\n",
    "    def __getitem__(self, index):\n",
    "        \"\"\"\n",
    "        get single item\n",
    "        :param index:\n",
    "        :return:\n",
    "        \"\"\"\n",
    "        img = read_image(str(self.test_files_path[index]))\n",
    "        img = img / 255.0\n",
    "        img = transform(img)\n",
    "\n",
    "        name = self.test_class_names[index]\n",
    "        img_y = self.class_id[name]\n",
    "\n",
    "        return img, img_y"
   ]
  },
  {
   "cell_type": "code",
   "execution_count": 4,
   "id": "0035f674",
   "metadata": {},
   "outputs": [],
   "source": [
    "train_ds = TrainSet(\"simpsons_dataset/simpsons_dataset\")\n",
    "val_ds = ValSet(\"simpsons_dataset/simpsons_dataset\", \"kaggle_simpson_testset\")"
   ]
  },
  {
   "cell_type": "code",
   "execution_count": 5,
   "id": "f739c9f7",
   "metadata": {},
   "outputs": [
    {
     "name": "stdout",
     "output_type": "stream",
     "text": [
      "True\n"
     ]
    }
   ],
   "source": [
    "print(torch.cuda.is_available())  # проверим доступны ли вычисления на gpu"
   ]
  },
  {
   "cell_type": "code",
   "execution_count": 6,
   "id": "afef12b2",
   "metadata": {},
   "outputs": [],
   "source": [
    "dev = torch.device(\n",
    "    \"cuda\") if torch.cuda.is_available() else torch.device(\"cpu\")  # cuda - графический процессор, cpu - центральный\n"
   ]
  },
  {
   "cell_type": "code",
   "execution_count": 9,
   "id": "1c1fb713",
   "metadata": {},
   "outputs": [
    {
     "name": "stderr",
     "output_type": "stream",
     "text": [
      "Clipping input data to the valid range for imshow with RGB data ([0..1] for floats or [0..255] for integers).\n"
     ]
    },
    {
     "data": {
      "text/plain": [
       "<matplotlib.image.AxesImage at 0x7f435c1c23d0>"
      ]
     },
     "execution_count": 9,
     "metadata": {},
     "output_type": "execute_result"
    },
    {
     "data": {
      "image/png": "[encoded data removed]",
      "text/plain": [
       "<Figure size 432x288 with 1 Axes>"
      ]
     },
     "metadata": {
      "needs_background": "light"
     },
     "output_type": "display_data"
    }
   ],
   "source": [
    "img, label = train_ds[10000]\n",
    "img = img.permute(1,2,0)\n",
    "plt.imshow(img) ## это всё чтобы картинку чекнуть \n"
   ]
  },
  {
   "cell_type": "code",
   "execution_count": 10,
   "id": "8847eebf",
   "metadata": {},
   "outputs": [],
   "source": [
    "train_dl = DataLoader(train_ds, batch_size=64, shuffle=True)  # создаём даталоадер\n",
    "val_dl = DataLoader(val_ds, batch_size=128)"
   ]
  },
  {
   "cell_type": "code",
   "execution_count": 11,
   "id": "6393ccaa",
   "metadata": {},
   "outputs": [],
   "source": [
    "not_le_net = models.resnet18(pretrained=True)  # загружаем предобученную модель\n",
    "# print(not_le_net)\n",
    "\n",
    "for param in not_le_net.parameters():\n",
    "    param.requires_grad = False\n",
    "\n",
    "not_le_net.fc = nn.Sequential(nn.Linear(512, 256),  # подгоняем архитектуру под нужное количество классов\n",
    "                                 nn.ReLU(),\n",
    "                                 nn.Dropout(0.2),\n",
    "                                 nn.Linear(256, 42),\n",
    "                                 nn.LogSoftmax(dim=1))\n",
    "\n",
    "not_le_net.to(dev)  # отправляем на девайс\n",
    "loss_func = F.cross_entropy  # функция оштбки - кросс энтропия\n",
    "opt = optim.SGD(not_le_net.parameters(), lr=0.001, momentum=0.9)  # способ оптимизации - стохастический градиентный спуск с моментумом\n"
   ]
  },
  {
   "cell_type": "code",
   "execution_count": 12,
   "id": "a8e89344",
   "metadata": {},
   "outputs": [],
   "source": [
    "def loss_batch(model, loss_func, xb, yb, opt=None):\n",
    "    predict = model(xb)  # прямой проход\n",
    "    loss = loss_func(predict, yb)  # подсчёт функции ошибки\n",
    "    predict = [torch.argmax(pred) for pred  in predict]\n",
    "    predict = torch.stack(predict, 0)\n",
    "    trueCount = 0\n",
    "    for i in range(len(yb)):\n",
    "        if predict[i] == yb[i]:\n",
    "            trueCount += 1  # подсчёт количества верно угаданных сэмплов\n",
    "    \n",
    "    if opt is not None:  # приобучении opt указывается, при валидации он не нужен, т.к. веса мы уже не меняем\n",
    "        loss.backward()\n",
    "        opt.step()\n",
    "        opt.zero_grad()\n",
    "\n",
    "    return loss.item(), len(xb), trueCount / len(yb)"
   ]
  },
  {
   "cell_type": "code",
   "execution_count": 13,
   "id": "35532680",
   "metadata": {},
   "outputs": [],
   "source": [
    "def fit(epochs, model, loss_func, opt, train_dl, valid_dl):\n",
    "    for epoch in range(epochs):\n",
    "        model.train()\n",
    "        _, numsT, acc_train = zip(*[loss_batch(model, loss_func, xb.cuda(), yb.cuda(), opt) for xb, yb in train_dl])\n",
    "\n",
    "        model.eval()\n",
    "        with torch.no_grad():\n",
    "            losses, nums, acc_val = zip(\n",
    "                *[loss_batch(model, loss_func, xb.cuda(), yb.cuda()) for xb, yb in valid_dl]\n",
    "            )\n",
    "        val_loss = np.sum(np.multiply(losses, nums)) / np.sum(nums)\n",
    "#         accuracy_train = np.mean(acc_train)\n",
    "#         accuracy_val = np.mean(acc_val)\n",
    "        accuracy_val = np.sum(np.multiply(acc_val, nums)) / np.sum(nums)\n",
    "        accuracy_train = np.sum(np.multiply(acc_train, numsT)) / np.sum(numsT)\n",
    "\n",
    "        writer.add_scalar(\"Acc_Val\", accuracy_val, epoch)\n",
    "        print(epoch, val_loss, accuracy_train, accuracy_val)"
   ]
  },
  {
   "cell_type": "code",
   "execution_count": null,
   "id": "288c0bdb",
   "metadata": {},
   "outputs": [
    {
     "name": "stdout",
     "output_type": "stream",
     "text": [
      "0 2.782047159021551 0.19476424783834137 0.296969696969697\n",
      "1 2.192565930250919 0.4467587063488272 0.4818181818181818\n",
      "2 1.8089939483488449 0.5585439258586921 0.5363636363636364\n"
     ]
    }
   ],
   "source": [
    "epochs = 40\n",
    "fit(epochs, not_le_net, loss_func, opt, train_dl, val_dl)\n",
    "writer.flush()\n",
    "writer.close()\n",
    "torch.save(not_le_net.state_dict(), 'lenet10_04.pth')"
   ]
  },
  {
   "cell_type": "code",
   "execution_count": null,
   "id": "c960978a",
   "metadata": {},
   "outputs": [],
   "source": []
  }
 ],
 "metadata": {
  "kernelspec": {
   "display_name": "Python 3 (ipykernel)",
   "language": "python",
   "name": "python3"
  },
  "language_info": {
   "codemirror_mode": {
    "name": "ipython",
    "version": 3
   },
   "file_extension": ".py",
   "mimetype": "text/x-python",
   "name": "python",
   "nbconvert_exporter": "python",
   "pygments_lexer": "ipython3",
   "version": "3.8.13"
  }
 },
 "nbformat": 4,
 "nbformat_minor": 5
}
